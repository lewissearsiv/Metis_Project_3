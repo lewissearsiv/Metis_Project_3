{
 "cells": [
  {
   "cell_type": "code",
   "execution_count": 1,
   "metadata": {},
   "outputs": [
    {
     "name": "stderr",
     "output_type": "stream",
     "text": [
      "/Users/lewissears/opt/anaconda3/lib/python3.7/site-packages/ipykernel_launcher.py:18: DataConversionWarning: A column-vector y was passed when a 1d array was expected. Please change the shape of y to (n_samples,), for example using ravel().\n"
     ]
    },
    {
     "data": {
      "text/plain": [
       "RandomForestClassifier()"
      ]
     },
     "execution_count": 1,
     "metadata": {},
     "output_type": "execute_result"
    }
   ],
   "source": [
    "import streamlit as st\n",
    "import pandas as pd\n",
    "from word_finder import *\n",
    "from sklearn.ensemble import RandomForestClassifier\n",
    "\n",
    "\n",
    "\n",
    "\n",
    "############################################\n",
    "#Fit the random Forest classifier for wines#\n",
    "############################################\n",
    "\n",
    "binary_features = pd.read_csv('Count_Vec.csv').iloc[:,1:]\n",
    "target = pd.read_csv('target.csv').iloc[:,1:]\n",
    "\n",
    "#forest\n",
    "forest=RandomForestClassifier(n_estimators=100)\n",
    "forest.fit(binary_features,target)"
   ]
  },
  {
   "cell_type": "code",
   "execution_count": 3,
   "metadata": {},
   "outputs": [
    {
     "ename": "AttributeError",
     "evalue": "'str' object has no attribute 'feature_importances_'",
     "output_type": "error",
     "traceback": [
      "\u001b[0;31m---------------------------------------------------------------------------\u001b[0m",
      "\u001b[0;31mAttributeError\u001b[0m                            Traceback (most recent call last)",
      "\u001b[0;32m<ipython-input-3-cfdba3419d7d>\u001b[0m in \u001b[0;36m<module>\u001b[0;34m\u001b[0m\n\u001b[0;32m----> 1\u001b[0;31m \u001b[0mforest_prediction\u001b[0m\u001b[0;34m(\u001b[0m\u001b[0;34m'steel and mineral'\u001b[0m\u001b[0;34m,\u001b[0m \u001b[0mforest\u001b[0m\u001b[0;34m)\u001b[0m\u001b[0;34m.\u001b[0m\u001b[0mfeature_importances_\u001b[0m\u001b[0;34m\u001b[0m\u001b[0;34m\u001b[0m\u001b[0m\n\u001b[0m",
      "\u001b[0;31mAttributeError\u001b[0m: 'str' object has no attribute 'feature_importances_'"
     ]
    }
   ],
   "source": [
    "forest_prediction('steel and mineral', forest)"
   ]
  },
  {
   "cell_type": "code",
   "execution_count": 4,
   "metadata": {},
   "outputs": [
    {
     "data": {
      "text/plain": [
       "array([1.43081281e-01, 9.98531343e-02, 3.13860665e-03, 2.00001001e-03,\n",
       "       1.73379535e-02, 2.29590718e-02, 5.83721860e-02, 2.08773356e-02,\n",
       "       2.81075993e-02, 9.71344221e-03, 5.34523930e-03, 2.78454549e-02,\n",
       "       2.48790686e-02, 1.49967172e-02, 7.31750302e-03, 3.53974573e-02,\n",
       "       9.74611011e-03, 3.43225919e-02, 5.99880629e-03, 2.56270718e-02,\n",
       "       4.75956897e-03, 4.67443285e-02, 1.13610251e-02, 9.12951533e-05,\n",
       "       3.63209611e-02, 4.78592805e-03, 4.12215670e-02, 2.54555371e-02,\n",
       "       1.38471999e-02, 8.26544938e-04, 9.50650046e-03, 2.29760449e-02,\n",
       "       2.17022913e-03, 4.44987026e-05, 5.92474860e-03, 1.39904936e-03,\n",
       "       2.84636458e-03, 2.95081146e-02, 2.23224292e-02, 3.39947776e-02,\n",
       "       1.00414239e-03, 5.54118787e-03, 1.51381998e-03, 1.51050851e-03,\n",
       "       6.56873009e-02, 4.13775260e-03, 4.39301081e-03, 8.30598458e-04,\n",
       "       2.06346176e-03, 2.94863259e-04])"
      ]
     },
     "execution_count": 4,
     "metadata": {},
     "output_type": "execute_result"
    }
   ],
   "source": [
    "forest.feature_importances_"
   ]
  },
  {
   "cell_type": "code",
   "execution_count": null,
   "metadata": {},
   "outputs": [],
   "source": []
  }
 ],
 "metadata": {
  "kernelspec": {
   "display_name": "Python 3",
   "language": "python",
   "name": "python3"
  },
  "language_info": {
   "codemirror_mode": {
    "name": "ipython",
    "version": 3
   },
   "file_extension": ".py",
   "mimetype": "text/x-python",
   "name": "python",
   "nbconvert_exporter": "python",
   "pygments_lexer": "ipython3",
   "version": "3.7.7"
  }
 },
 "nbformat": 4,
 "nbformat_minor": 4
}
