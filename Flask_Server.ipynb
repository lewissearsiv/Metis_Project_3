{
 "cells": [
  {
   "cell_type": "code",
   "execution_count": 3,
   "metadata": {},
   "outputs": [
    {
     "name": "stdout",
     "output_type": "stream",
     "text": [
      "Python Version: 3.7.7 (default, Mar 23 2020, 17:31:31) \n",
      "[Clang 4.0.1 (tags/RELEASE_401/final)]\n"
     ]
    }
   ],
   "source": [
    "import sys\n",
    "print(\"Python Version:\", sys.version)\n",
    "import statistics\n",
    "import math\n",
    "import pandas as pd\n",
    "import numpy as np\n",
    "from sklearn.ensemble import RandomForestClassifier\n",
    "import warnings\n",
    "warnings.filterwarnings('ignore')\n",
    "import flask"
   ]
  },
  {
   "cell_type": "code",
   "execution_count": 4,
   "metadata": {},
   "outputs": [],
   "source": [
    "#Setup\n",
    "df_raw_wine = pd.read_csv('Wine_Data/kaggle_wine.csv')\n",
    "df_wine = df_raw_wine.iloc[:,1:]\n",
    "df_us = df_wine[df_wine['country'] == 'US']\n",
    "df_fr = df_wine[df_wine['country'] == 'France']\n",
    "df_wine2 = pd.concat([df_us, df_fr])\n",
    "df_wine2.reset_index(drop = True, inplace = True)\n",
    "df_chard = df_wine2[df_wine2['variety'] == 'Chardonnay']\n",
    "df_chard.reset_index(drop = True, inplace = True)\n",
    "from ipynb.fs.full.word_finder_chard import *\n",
    "word_finder_matrix(df_chard)\n",
    "df_chard_us = df_chard[df_chard.country == 'US']\n",
    "df_chard_fr = df_chard[df_chard.country == 'France']\n",
    "#Fit Model\n",
    "binary_features = df_chard.iloc[:,10:]\n",
    "target = df_chard['country']\n",
    "forest=RandomForestClassifier(n_estimators=100)\n",
    "forest.fit(binary_features,target)\n",
    "def forest_prediction(description):\n",
    "    sample_test_df = pd.DataFrame({'description': [description]})\n",
    "    word_finder_matrix(sample_test_df)\n",
    "    return forest.predict([sample_test_df.iloc[0,1:]])[0]"
   ]
  },
  {
   "cell_type": "code",
   "execution_count": 11,
   "metadata": {},
   "outputs": [],
   "source": [
    "string = \"Lewis is not cool\""
   ]
  },
  {
   "cell_type": "code",
   "execution_count": 13,
   "metadata": {},
   "outputs": [
    {
     "data": {
      "text/plain": [
       "'Lewis is  cool'"
      ]
     },
     "execution_count": 13,
     "metadata": {},
     "output_type": "execute_result"
    }
   ],
   "source": [
    "string.replace('not','')"
   ]
  },
  {
   "cell_type": "code",
   "execution_count": null,
   "metadata": {},
   "outputs": [],
   "source": []
  },
  {
   "cell_type": "code",
   "execution_count": null,
   "metadata": {},
   "outputs": [],
   "source": []
  },
  {
   "cell_type": "code",
   "execution_count": null,
   "metadata": {},
   "outputs": [],
   "source": []
  },
  {
   "cell_type": "code",
   "execution_count": null,
   "metadata": {},
   "outputs": [],
   "source": []
  },
  {
   "cell_type": "code",
   "execution_count": null,
   "metadata": {},
   "outputs": [],
   "source": [
    "app = flask.Flask(__name__)  # create instance of Flask class\n",
    "\n",
    "@app.route('/')  # the site to route to, index/main in this case\n",
    "def hello_world():\n",
    "    return flask.render_template('predictor.html',features=['age','income','city'])\n",
    "\n",
    "@app.route(\"/predict\")\n",
    "def predict():\n",
    "    print flask.request.args\n",
    "    p = mypredict(flask.request.args)\n",
    "    return flask.render_template('predictor.html',features=['age','income','city'],prediction=p)\n",
    "\n",
    "if __name__ == '__main__':\n",
    "    app.run()"
   ]
  }
 ],
 "metadata": {
  "kernelspec": {
   "display_name": "Python 3",
   "language": "python",
   "name": "python3"
  },
  "language_info": {
   "codemirror_mode": {
    "name": "ipython",
    "version": 3
   },
   "file_extension": ".py",
   "mimetype": "text/x-python",
   "name": "python",
   "nbconvert_exporter": "python",
   "pygments_lexer": "ipython3",
   "version": "3.7.7"
  }
 },
 "nbformat": 4,
 "nbformat_minor": 4
}
